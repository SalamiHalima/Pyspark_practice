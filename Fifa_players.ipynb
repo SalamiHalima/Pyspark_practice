{
 "cells": [
  {
   "cell_type": "code",
   "execution_count": 0,
   "metadata": {
    "application/vnd.databricks.v1+cell": {
     "cellMetadata": {},
     "inputWidgets": {},
     "nuid": "c342eecc-1eaf-45d0-9d11-44d1093ae6ed",
     "showTitle": false,
     "title": ""
    }
   },
   "outputs": [],
   "source": [
    "from pyspark.sql import SparkSession  #df_1_csv"
   ]
  },
  {
   "cell_type": "code",
   "execution_count": 0,
   "metadata": {
    "application/vnd.databricks.v1+cell": {
     "cellMetadata": {},
     "inputWidgets": {},
     "nuid": "48876a2c-4926-44bf-8b9e-f628f94d6ced",
     "showTitle": false,
     "title": ""
    }
   },
   "outputs": [],
   "source": [
    "spark = SparkSession.builder.master('localhost[*]').appName('Players').getOrCreate()"
   ]
  },
  {
   "cell_type": "code",
   "execution_count": 0,
   "metadata": {
    "application/vnd.databricks.v1+cell": {
     "cellMetadata": {},
     "inputWidgets": {},
     "nuid": "abbe581b-0268-4ae8-ba7e-d1f518837d1d",
     "showTitle": false,
     "title": ""
    }
   },
   "outputs": [
    {
     "data": {
      "text/html": [
       "\n",
       "            <div>\n",
       "                <p><b>SparkSession - hive</b></p>\n",
       "                \n",
       "        <div>\n",
       "            <p><b>SparkContext</b></p>\n",
       "\n",
       "            <p><a href=\"/?o=876504314236724#setting/sparkui/0312-075458-tme81tkp/driver-4883983055996123007\">Spark UI</a></p>\n",
       "\n",
       "            <dl>\n",
       "              <dt>Version</dt>\n",
       "                <dd><code>v3.3.0</code></dd>\n",
       "              <dt>Master</dt>\n",
       "                <dd><code>local[8]</code></dd>\n",
       "              <dt>AppName</dt>\n",
       "                <dd><code>Databricks Shell</code></dd>\n",
       "            </dl>\n",
       "        </div>\n",
       "        \n",
       "            </div>\n",
       "        "
      ]
     },
     "metadata": {
      "application/vnd.databricks.v1+output": {
       "addedWidgets": {},
       "arguments": {},
       "data": "\n            <div>\n                <p><b>SparkSession - hive</b></p>\n                \n        <div>\n            <p><b>SparkContext</b></p>\n\n            <p><a href=\"/?o=876504314236724#setting/sparkui/0312-075458-tme81tkp/driver-4883983055996123007\">Spark UI</a></p>\n\n            <dl>\n              <dt>Version</dt>\n                <dd><code>v3.3.0</code></dd>\n              <dt>Master</dt>\n                <dd><code>local[8]</code></dd>\n              <dt>AppName</dt>\n                <dd><code>Databricks Shell</code></dd>\n            </dl>\n        </div>\n        \n            </div>\n        ",
       "datasetInfos": [],
       "metadata": {},
       "removedWidgets": [],
       "textData": null,
       "type": "htmlSandbox"
      }
     },
     "output_type": "display_data"
    }
   ],
   "source": [
    "spark"
   ]
  },
  {
   "cell_type": "code",
   "execution_count": 0,
   "metadata": {
    "application/vnd.databricks.v1+cell": {
     "cellMetadata": {},
     "inputWidgets": {},
     "nuid": "7a59c45b-6cd5-47b1-8093-e5cc1af694a5",
     "showTitle": false,
     "title": ""
    }
   },
   "outputs": [],
   "source": [
    "sc = spark.sparkContext"
   ]
  },
  {
   "cell_type": "code",
   "execution_count": 0,
   "metadata": {
    "application/vnd.databricks.v1+cell": {
     "cellMetadata": {},
     "inputWidgets": {},
     "nuid": "54b9f2fe-5039-410b-9410-48f15f0c0267",
     "showTitle": false,
     "title": ""
    }
   },
   "outputs": [
    {
     "data": {
      "application/vnd.databricks.v1+bamboolib_hint": "{\"pd.DataFrames\": [], \"version\": \"0.0.1\"}",
      "text/plain": []
     },
     "metadata": {
      "application/vnd.databricks.v1+output": {
       "addedWidgets": {},
       "arguments": {},
       "data": {
        "application/vnd.databricks.v1+bamboolib_hint": "{\"pd.DataFrames\": [], \"version\": \"0.0.1\"}",
        "text/plain": ""
       },
       "datasetInfos": [],
       "executionCount": null,
       "metadata": {
        "kernelSessionId": "d11e93fd-90bbfa3bf86840f6745cc753"
       },
       "removedWidgets": [],
       "type": "mimeBundle"
      }
     },
     "output_type": "display_data"
    }
   ],
   "source": [
    "import pandas as pd"
   ]
  },
  {
   "cell_type": "code",
   "execution_count": 0,
   "metadata": {
    "application/vnd.databricks.v1+cell": {
     "cellMetadata": {},
     "inputWidgets": {},
     "nuid": "603726ff-5316-4b66-91be-997fe742609b",
     "showTitle": false,
     "title": ""
    }
   },
   "outputs": [],
   "source": [
    "player_stats = spark.read.table('player_attributes_4_csv')\n",
    "players = spark.read.table('player_12_csv')"
   ]
  },
  {
   "cell_type": "code",
   "execution_count": 0,
   "metadata": {
    "application/vnd.databricks.v1+cell": {
     "cellMetadata": {},
     "inputWidgets": {},
     "nuid": "2e4cdf2c-ac42-4fcf-9877-a58c7f04c4a7",
     "showTitle": false,
     "title": ""
    }
   },
   "outputs": [
    {
     "name": "stdout",
     "output_type": "stream",
     "text": [
      "root\n",
      " |-- id: string (nullable = true)\n",
      " |-- player_api_id: string (nullable = true)\n",
      " |-- player_name: string (nullable = true)\n",
      " |-- player_fifa_api_id: string (nullable = true)\n",
      " |-- birthday: string (nullable = true)\n",
      " |-- height: double (nullable = true)\n",
      " |-- weight: integer (nullable = true)\n",
      "\n"
     ]
    }
   ],
   "source": [
    "players.printSchema()"
   ]
  },
  {
   "cell_type": "code",
   "execution_count": 0,
   "metadata": {
    "application/vnd.databricks.v1+cell": {
     "cellMetadata": {},
     "inputWidgets": {},
     "nuid": "d5acb054-5aa4-4af2-ae40-93a391fb30e1",
     "showTitle": false,
     "title": ""
    }
   },
   "outputs": [
    {
     "name": "stdout",
     "output_type": "stream",
     "text": [
      "root\n",
      " |-- id: string (nullable = true)\n",
      " |-- player_fifa_api_id: string (nullable = true)\n",
      " |-- player_api_id: string (nullable = true)\n",
      " |-- date: string (nullable = true)\n",
      " |-- overall_rating: string (nullable = true)\n",
      " |-- potential: string (nullable = true)\n",
      " |-- preferred_foot: string (nullable = true)\n",
      " |-- attacking_work_rate: string (nullable = true)\n",
      " |-- defensive_work_rate: string (nullable = true)\n",
      " |-- crossing: string (nullable = true)\n",
      " |-- finishing: integer (nullable = true)\n",
      " |-- heading_accuracy: string (nullable = true)\n",
      " |-- short_passing: string (nullable = true)\n",
      " |-- volleys: string (nullable = true)\n",
      " |-- dribbling: string (nullable = true)\n",
      " |-- curve: string (nullable = true)\n",
      " |-- free_kick_accuracy: string (nullable = true)\n",
      " |-- long_passing: string (nullable = true)\n",
      " |-- ball_control: string (nullable = true)\n",
      " |-- acceleration: integer (nullable = true)\n",
      " |-- sprint_speed: integer (nullable = true)\n",
      " |-- agility: string (nullable = true)\n",
      " |-- reactions: string (nullable = true)\n",
      " |-- balance: string (nullable = true)\n",
      " |-- shot_power: integer (nullable = true)\n",
      " |-- jumping: string (nullable = true)\n",
      " |-- stamina: integer (nullable = true)\n",
      " |-- strength: string (nullable = true)\n",
      " |-- long_shots: string (nullable = true)\n",
      " |-- aggression: string (nullable = true)\n",
      " |-- interceptions: string (nullable = true)\n",
      " |-- positioning: string (nullable = true)\n",
      " |-- vision: string (nullable = true)\n",
      " |-- penalties: string (nullable = true)\n",
      " |-- marking: string (nullable = true)\n",
      " |-- standing_tackle: string (nullable = true)\n",
      " |-- sliding_tackle: string (nullable = true)\n",
      " |-- gk_diving: string (nullable = true)\n",
      " |-- gk_handling: string (nullable = true)\n",
      " |-- gk_kicking: string (nullable = true)\n",
      " |-- gk_positioning: string (nullable = true)\n",
      " |-- gk_reflexes: string (nullable = true)\n",
      "\n"
     ]
    }
   ],
   "source": [
    "player_stats.printSchema()"
   ]
  },
  {
   "cell_type": "code",
   "execution_count": 0,
   "metadata": {
    "application/vnd.databricks.v1+cell": {
     "cellMetadata": {},
     "inputWidgets": {},
     "nuid": "153c145b-1b3a-4780-828e-bed8675de7ec",
     "showTitle": false,
     "title": ""
    }
   },
   "outputs": [
    {
     "name": "stdout",
     "output_type": "stream",
     "text": [
      "Out[10]: 11060"
     ]
    }
   ],
   "source": [
    "players.count()\n",
    "players.select('player_fifa_api_id').distinct().count()"
   ]
  },
  {
   "cell_type": "code",
   "execution_count": 0,
   "metadata": {
    "application/vnd.databricks.v1+cell": {
     "cellMetadata": {},
     "inputWidgets": {},
     "nuid": "ee5859fb-c684-4a05-93fa-ebc7d0861a3d",
     "showTitle": false,
     "title": ""
    }
   },
   "outputs": [
    {
     "name": "stdout",
     "output_type": "stream",
     "text": [
      "Out[11]: 183978"
     ]
    }
   ],
   "source": [
    "player_stats.count()"
   ]
  },
  {
   "cell_type": "code",
   "execution_count": 0,
   "metadata": {
    "application/vnd.databricks.v1+cell": {
     "cellMetadata": {},
     "inputWidgets": {},
     "nuid": "95e83aa6-c98e-4c70-9b60-852e7936504e",
     "showTitle": false,
     "title": ""
    }
   },
   "outputs": [
    {
     "name": "stdout",
     "output_type": "stream",
     "text": [
      "Out[12]: 11062"
     ]
    }
   ],
   "source": [
    "player_stats.select('player_fifa_api_id').distinct().count()"
   ]
  },
  {
   "cell_type": "code",
   "execution_count": 0,
   "metadata": {
    "application/vnd.databricks.v1+cell": {
     "cellMetadata": {},
     "inputWidgets": {},
     "nuid": "fdbfffe9-e797-45a7-aa93-93175c9c1559",
     "showTitle": false,
     "title": ""
    }
   },
   "outputs": [
    {
     "name": "stdout",
     "output_type": "stream",
     "text": [
      "+------------------+-------------------+------------------+\n",
      "|player_fifa_api_id|               date|free_kick_accuracy|\n",
      "+------------------+-------------------+------------------+\n",
      "|            218353|2016-02-18 00:00:00|                39|\n",
      "|            218353|2015-11-19 00:00:00|                39|\n",
      "|            218353|2015-09-21 00:00:00|                39|\n",
      "|            218353|2015-03-20 00:00:00|                38|\n",
      "|            218353|2007-02-22 00:00:00|                38|\n",
      "|            189615|2016-04-21 00:00:00|                69|\n",
      "|            189615|2016-04-07 00:00:00|                69|\n",
      "|            189615|2016-01-07 00:00:00|                69|\n",
      "|            189615|2015-12-24 00:00:00|                69|\n",
      "|            189615|2015-12-17 00:00:00|                69|\n",
      "|            189615|2015-10-16 00:00:00|                69|\n",
      "|            189615|2015-09-25 00:00:00|                69|\n",
      "|            189615|2015-09-21 00:00:00|                69|\n",
      "|            189615|2015-01-09 00:00:00|                68|\n",
      "|            189615|2014-12-05 00:00:00|                68|\n",
      "|            189615|2014-11-07 00:00:00|                68|\n",
      "|            189615|2014-09-18 00:00:00|                68|\n",
      "|            189615|2014-05-02 00:00:00|                68|\n",
      "|            189615|2014-04-04 00:00:00|                68|\n",
      "|            189615|2014-03-14 00:00:00|                68|\n",
      "+------------------+-------------------+------------------+\n",
      "only showing top 20 rows\n",
      "\n"
     ]
    }
   ],
   "source": [
    "player_stats.select('player_fifa_api_id', 'date', 'free_kick_accuracy').show()"
   ]
  },
  {
   "cell_type": "markdown",
   "metadata": {
    "application/vnd.databricks.v1+cell": {
     "cellMetadata": {},
     "inputWidgets": {},
     "nuid": "c04598a1-f7e4-400b-aad5-b698aa92dab7",
     "showTitle": false,
     "title": ""
    }
   },
   "source": [
    "Looking at the count of each tables, we can see players - 11062 (distinct id) while player_stats - 11062 (distinct id) \n",
    "\n",
    "but 183978 (count of the id and table which means, It has lots of duplicate id but maybe not same field info).\n",
    "Hence, we need to be careful while joining both tables, and in a case like this, since it is player_stats that has the higher count and duplicate, we will join players table to it, \n",
    "cause if we join players table to it and player also have duplicate, it will multiply each duplicate of the table it is been join to twice. eg. Player_stats has and 5 duplicate id, and the related id on players_stats have two duplicate, it will be 10 duplicates join together..."
   ]
  },
  {
   "cell_type": "code",
   "execution_count": 0,
   "metadata": {
    "application/vnd.databricks.v1+cell": {
     "cellMetadata": {},
     "inputWidgets": {},
     "nuid": "38872224-4ee9-4d72-9db1-c3cc6c7dcaa6",
     "showTitle": false,
     "title": ""
    }
   },
   "outputs": [],
   "source": [
    "# How to join tables. NOTE: By default how is inner/left join and you might not need to put it.\n",
    "\n",
    "players_with_stats = player_stats.join(players, players.player_fifa_api_id == player_stats.player_fifa_api_id, how= 'left')"
   ]
  },
  {
   "cell_type": "code",
   "execution_count": 0,
   "metadata": {
    "application/vnd.databricks.v1+cell": {
     "cellMetadata": {},
     "inputWidgets": {},
     "nuid": "9b68b69d-13c4-4a3f-abe2-e5227d5e56e2",
     "showTitle": false,
     "title": ""
    }
   },
   "outputs": [],
   "source": [
    "# Since the both tables has the same field name to join on, it is better to use in this format : \n",
    "\n",
    "players_with_stats = player_stats.join(players, ['player_fifa_api_id'])"
   ]
  },
  {
   "cell_type": "code",
   "execution_count": 0,
   "metadata": {
    "application/vnd.databricks.v1+cell": {
     "cellMetadata": {},
     "inputWidgets": {},
     "nuid": "18a1f385-2e5b-417b-96e7-461e12f007d6",
     "showTitle": false,
     "title": ""
    }
   },
   "outputs": [
    {
     "name": "stdout",
     "output_type": "stream",
     "text": [
      "+------------------+---+-------------+-------------------+--------------+---------+--------------+-------------------+-------------------+--------+---------+----------------+-------------+-------+---------+-----+------------------+------------+------------+------------+------------+-------+---------+-------+----------+-------+-------+--------+----------+----------+-------------+-----------+------+---------+-------+---------------+--------------+---------+-----------+----------+--------------+-----------+---+-------------+------------------+-------------------+------+------+\n",
      "|player_fifa_api_id| id|player_api_id|               date|overall_rating|potential|preferred_foot|attacking_work_rate|defensive_work_rate|crossing|finishing|heading_accuracy|short_passing|volleys|dribbling|curve|free_kick_accuracy|long_passing|ball_control|acceleration|sprint_speed|agility|reactions|balance|shot_power|jumping|stamina|strength|long_shots|aggression|interceptions|positioning|vision|penalties|marking|standing_tackle|sliding_tackle|gk_diving|gk_handling|gk_kicking|gk_positioning|gk_reflexes| id|player_api_id|       player_name|           birthday|height|weight|\n",
      "+------------------+---+-------------+-------------------+--------------+---------+--------------+-------------------+-------------------+--------+---------+----------------+-------------+-------+---------+-----+------------------+------------+------------+------------+------------+-------+---------+-------+----------+-------+-------+--------+----------+----------+-------------+-----------+------+---------+-------+---------------+--------------+---------+-----------+----------+--------------+-----------+---+-------------+------------------+-------------------+------+------+\n",
      "|            218353|  1|       505942|2016-02-18 00:00:00|            67|       71|         right|             medium|             medium|      49|       44|              71|           61|     44|       51|   45|                39|          64|          49|          60|          64|     59|       47|     65|        55|     58|     54|      76|        35|        71|           70|         45|    54|       48|     65|             69|            69|        6|         11|        10|             8|          8|  1|       505942|Aaron Appindangoye|1992-02-29 00:00:00|182.88|   187|\n",
      "|            218353|  2|       505942|2015-11-19 00:00:00|            67|       71|         right|             medium|             medium|      49|       44|              71|           61|     44|       51|   45|                39|          64|          49|          60|          64|     59|       47|     65|        55|     58|     54|      76|        35|        71|           70|         45|    54|       48|     65|             69|            69|        6|         11|        10|             8|          8|  1|       505942|Aaron Appindangoye|1992-02-29 00:00:00|182.88|   187|\n",
      "|            218353|  3|       505942|2015-09-21 00:00:00|            62|       66|         right|             medium|             medium|      49|       44|              71|           61|     44|       51|   45|                39|          64|          49|          60|          64|     59|       47|     65|        55|     58|     54|      76|        35|        63|           41|         45|    54|       48|     65|             66|            69|        6|         11|        10|             8|          8|  1|       505942|Aaron Appindangoye|1992-02-29 00:00:00|182.88|   187|\n",
      "|            218353|  4|       505942|2015-03-20 00:00:00|            61|       65|         right|             medium|             medium|      48|       43|              70|           60|     43|       50|   44|                38|          63|          48|          60|          64|     59|       46|     65|        54|     58|     54|      76|        34|        62|           40|         44|    53|       47|     62|             63|            66|        5|         10|         9|             7|          7|  1|       505942|Aaron Appindangoye|1992-02-29 00:00:00|182.88|   187|\n",
      "|            218353|  5|       505942|2007-02-22 00:00:00|            61|       65|         right|             medium|             medium|      48|       43|              70|           60|     43|       50|   44|                38|          63|          48|          60|          64|     59|       46|     65|        54|     58|     54|      76|        34|        62|           40|         44|    53|       47|     62|             63|            66|        5|         10|         9|             7|          7|  1|       505942|Aaron Appindangoye|1992-02-29 00:00:00|182.88|   187|\n",
      "|            189615|  6|       155782|2016-04-21 00:00:00|            74|       76|          left|               high|             medium|      80|       53|              58|           71|     40|       73|   70|                69|          68|          71|          79|          78|     78|       67|     90|        71|     85|     79|      56|        62|        68|           67|         60|    66|       59|     76|             75|            78|       14|          7|         9|             9|         12|  2|       155782|   Aaron Cresswell|1989-12-15 00:00:00|170.18|   146|\n",
      "|            189615|  7|       155782|2016-04-07 00:00:00|            74|       76|          left|               high|             medium|      80|       53|              58|           71|     32|       73|   70|                69|          68|          71|          79|          78|     78|       67|     90|        71|     85|     79|      56|        60|        68|           67|         60|    66|       59|     76|             75|            78|       14|          7|         9|             9|         12|  2|       155782|   Aaron Cresswell|1989-12-15 00:00:00|170.18|   146|\n",
      "|            189615|  8|       155782|2016-01-07 00:00:00|            73|       75|          left|               high|             medium|      79|       52|              57|           70|     29|       71|   68|                69|          68|          70|          79|          78|     78|       67|     90|        71|     84|     79|      56|        59|        67|           66|         58|    65|       59|     76|             75|            78|       14|          7|         9|             9|         12|  2|       155782|   Aaron Cresswell|1989-12-15 00:00:00|170.18|   146|\n",
      "|            189615|  9|       155782|2015-12-24 00:00:00|            73|       75|          left|               high|             medium|      79|       51|              57|           70|     29|       71|   68|                69|          68|          70|          79|          78|     78|       67|     90|        71|     84|     79|      56|        58|        67|           66|         58|    65|       59|     76|             75|            78|       14|          7|         9|             9|         12|  2|       155782|   Aaron Cresswell|1989-12-15 00:00:00|170.18|   146|\n",
      "|            189615| 10|       155782|2015-12-17 00:00:00|            73|       75|          left|               high|             medium|      79|       51|              57|           70|     29|       71|   68|                69|          68|          70|          79|          78|     78|       67|     90|        71|     84|     79|      56|        58|        67|           66|         58|    65|       59|     76|             75|            78|       14|          7|         9|             9|         12|  2|       155782|   Aaron Cresswell|1989-12-15 00:00:00|170.18|   146|\n",
      "|            189615| 11|       155782|2015-10-16 00:00:00|            73|       77|          left|               high|             medium|      79|       51|              57|           70|     29|       71|   68|                69|          68|          70|          79|          78|     78|       67|     90|        71|     84|     79|      56|        58|        67|           66|         58|    65|       59|     76|             75|            78|       14|          7|         9|             9|         12|  2|       155782|   Aaron Cresswell|1989-12-15 00:00:00|170.18|   146|\n",
      "|            189615| 12|       155782|2015-09-25 00:00:00|            74|       78|          left|               high|             medium|      79|       51|              57|           70|     29|       71|   68|                69|          68|          70|          80|          78|     78|       67|     90|        71|     84|     79|      56|        58|        67|           66|         58|    65|       59|     76|             75|            78|       14|          7|         9|             9|         12|  2|       155782|   Aaron Cresswell|1989-12-15 00:00:00|170.18|   146|\n",
      "|            189615| 13|       155782|2015-09-21 00:00:00|            73|       77|          left|             medium|             medium|      79|       51|              57|           70|     29|       67|   68|                69|          68|          68|          79|          78|     78|       67|     90|        71|     84|     79|      56|        58|        67|           66|         58|    65|       59|     76|             75|            78|       14|          7|         9|             9|         12|  2|       155782|   Aaron Cresswell|1989-12-15 00:00:00|170.18|   146|\n",
      "|            189615| 14|       155782|2015-01-09 00:00:00|            71|       75|          left|             medium|             medium|      78|       50|              56|           69|     28|       66|   67|                68|          67|          67|          79|          82|     79|       71|     90|        70|     84|     79|      50|        56|        66|           65|         57|    64|       58|     73|             72|            72|       13|          6|         8|             8|         11|  2|       155782|   Aaron Cresswell|1989-12-15 00:00:00|170.18|   146|\n",
      "|            189615| 15|       155782|2014-12-05 00:00:00|            71|       77|          left|             medium|             medium|      78|       50|              56|           69|     28|       66|   67|                68|          67|          67|          79|          82|     79|       71|     90|        70|     84|     79|      50|        56|        66|           65|         57|    64|       58|     73|             72|            72|       13|          6|         8|             8|         11|  2|       155782|   Aaron Cresswell|1989-12-15 00:00:00|170.18|   146|\n",
      "|            189615| 16|       155782|2014-11-07 00:00:00|            71|       77|          left|             medium|             medium|      78|       50|              56|           69|     28|       66|   67|                68|          67|          67|          79|          82|     79|       71|     90|        70|     84|     79|      50|        56|        66|           65|         57|    64|       58|     73|             72|            72|       13|          6|         8|             8|         11|  2|       155782|   Aaron Cresswell|1989-12-15 00:00:00|170.18|   146|\n",
      "|            189615| 17|       155782|2014-09-18 00:00:00|            70|       77|          left|             medium|             medium|      77|       50|              51|           67|     28|       66|   67|                68|          67|          66|          79|          82|     79|       69|     90|        70|     84|     79|      50|        56|        66|           62|         57|    64|       58|     73|             72|            72|       13|          6|         8|             8|         11|  2|       155782|   Aaron Cresswell|1989-12-15 00:00:00|170.18|   146|\n",
      "|            189615| 18|       155782|2014-05-02 00:00:00|            70|       79|          left|             medium|             medium|      77|       50|              51|           67|     28|       66|   67|                68|          67|          66|          84|          82|     81|       69|     90|        70|     84|     80|      50|        56|        66|           62|         57|    64|       58|     73|             72|            72|       13|          6|         8|             8|         11|  2|       155782|   Aaron Cresswell|1989-12-15 00:00:00|170.18|   146|\n",
      "|            189615| 19|       155782|2014-04-04 00:00:00|            70|       79|          left|             medium|             medium|      77|       50|              51|           67|     28|       66|   67|                68|          67|          66|          84|          82|     81|       69|     90|        70|     84|     80|      50|        56|        66|           62|         57|    64|       58|     73|             72|            72|       13|          6|         8|             8|         11|  2|       155782|   Aaron Cresswell|1989-12-15 00:00:00|170.18|   146|\n",
      "|            189615| 20|       155782|2014-03-14 00:00:00|            70|       79|          left|             medium|             medium|      77|       50|              51|           67|     28|       66|   66|                68|          67|          65|          84|          82|     81|       69|     90|        70|     84|     79|      49|        55|        66|           62|         57|    61|       58|     73|             72|            72|       13|          6|         8|             8|         11|  2|       155782|   Aaron Cresswell|1989-12-15 00:00:00|170.18|   146|\n",
      "+------------------+---+-------------+-------------------+--------------+---------+--------------+-------------------+-------------------+--------+---------+----------------+-------------+-------+---------+-----+------------------+------------+------------+------------+------------+-------+---------+-------+----------+-------+-------+--------+----------+----------+-------------+-----------+------+---------+-------+---------------+--------------+---------+-----------+----------+--------------+-----------+---+-------------+------------------+-------------------+------+------+\n",
      "only showing top 20 rows\n",
      "\n"
     ]
    }
   ],
   "source": [
    "players_with_stats.show()"
   ]
  },
  {
   "cell_type": "code",
   "execution_count": 0,
   "metadata": {
    "application/vnd.databricks.v1+cell": {
     "cellMetadata": {},
     "inputWidgets": {},
     "nuid": "021777b4-24ed-4fbf-a067-d55919edce8f",
     "showTitle": false,
     "title": ""
    }
   },
   "outputs": [
    {
     "name": "stdout",
     "output_type": "stream",
     "text": [
      "Out[17]: 183929"
     ]
    }
   ],
   "source": [
    "# It is good to count thereafter to know if it has more rows than than the table it been joined on. And if the rows are reduced, that means some id from the table joined has no id.\n",
    "\n",
    "players_with_stats.count()"
   ]
  },
  {
   "cell_type": "markdown",
   "metadata": {
    "application/vnd.databricks.v1+cell": {
     "cellMetadata": {},
     "inputWidgets": {},
     "nuid": "25903ec4-1141-4ee8-ad06-bc6661046d79",
     "showTitle": false,
     "title": ""
    }
   },
   "source": [
    "BROADCAST is a good way of joining whereby you wrap the join around the broadcast. broadcast the player dataset into all the executor and \n",
    "this will make the join with the player_Stats faster because the player_Stats each partition of it has in the memory of the executor already the entire player dataset.\n",
    "\n",
    "\n",
    "IMPORT BOARDCAST FIRST"
   ]
  },
  {
   "cell_type": "code",
   "execution_count": 0,
   "metadata": {
    "application/vnd.databricks.v1+cell": {
     "cellMetadata": {},
     "inputWidgets": {},
     "nuid": "f722c211-7a07-481b-b736-7f2440573c57",
     "showTitle": false,
     "title": ""
    }
   },
   "outputs": [],
   "source": [
    "from pyspark.sql.functions import broadcast"
   ]
  },
  {
   "cell_type": "code",
   "execution_count": 0,
   "metadata": {
    "application/vnd.databricks.v1+cell": {
     "cellMetadata": {},
     "inputWidgets": {},
     "nuid": "c9a2102a-49b8-4921-948a-baa5b4e10fa2",
     "showTitle": false,
     "title": ""
    }
   },
   "outputs": [
    {
     "name": "stdout",
     "output_type": "stream",
     "text": [
      "+------------------+---+-------------+-------------------+--------------+---------+--------------+-------------------+-------------------+--------+---------+----------------+-------------+-------+---------+-----+------------------+------------+------------+------------+------------+-------+---------+-------+----------+-------+-------+--------+----------+----------+-------------+-----------+------+---------+-------+---------------+--------------+---------+-----------+----------+--------------+-----------+---+-------------+------------------+-------------------+------+------+\n",
      "|player_fifa_api_id| id|player_api_id|               date|overall_rating|potential|preferred_foot|attacking_work_rate|defensive_work_rate|crossing|finishing|heading_accuracy|short_passing|volleys|dribbling|curve|free_kick_accuracy|long_passing|ball_control|acceleration|sprint_speed|agility|reactions|balance|shot_power|jumping|stamina|strength|long_shots|aggression|interceptions|positioning|vision|penalties|marking|standing_tackle|sliding_tackle|gk_diving|gk_handling|gk_kicking|gk_positioning|gk_reflexes| id|player_api_id|       player_name|           birthday|height|weight|\n",
      "+------------------+---+-------------+-------------------+--------------+---------+--------------+-------------------+-------------------+--------+---------+----------------+-------------+-------+---------+-----+------------------+------------+------------+------------+------------+-------+---------+-------+----------+-------+-------+--------+----------+----------+-------------+-----------+------+---------+-------+---------------+--------------+---------+-----------+----------+--------------+-----------+---+-------------+------------------+-------------------+------+------+\n",
      "|            218353|  1|       505942|2016-02-18 00:00:00|            67|       71|         right|             medium|             medium|      49|       44|              71|           61|     44|       51|   45|                39|          64|          49|          60|          64|     59|       47|     65|        55|     58|     54|      76|        35|        71|           70|         45|    54|       48|     65|             69|            69|        6|         11|        10|             8|          8|  1|       505942|Aaron Appindangoye|1992-02-29 00:00:00|182.88|   187|\n",
      "|            218353|  2|       505942|2015-11-19 00:00:00|            67|       71|         right|             medium|             medium|      49|       44|              71|           61|     44|       51|   45|                39|          64|          49|          60|          64|     59|       47|     65|        55|     58|     54|      76|        35|        71|           70|         45|    54|       48|     65|             69|            69|        6|         11|        10|             8|          8|  1|       505942|Aaron Appindangoye|1992-02-29 00:00:00|182.88|   187|\n",
      "|            218353|  3|       505942|2015-09-21 00:00:00|            62|       66|         right|             medium|             medium|      49|       44|              71|           61|     44|       51|   45|                39|          64|          49|          60|          64|     59|       47|     65|        55|     58|     54|      76|        35|        63|           41|         45|    54|       48|     65|             66|            69|        6|         11|        10|             8|          8|  1|       505942|Aaron Appindangoye|1992-02-29 00:00:00|182.88|   187|\n",
      "|            218353|  4|       505942|2015-03-20 00:00:00|            61|       65|         right|             medium|             medium|      48|       43|              70|           60|     43|       50|   44|                38|          63|          48|          60|          64|     59|       46|     65|        54|     58|     54|      76|        34|        62|           40|         44|    53|       47|     62|             63|            66|        5|         10|         9|             7|          7|  1|       505942|Aaron Appindangoye|1992-02-29 00:00:00|182.88|   187|\n",
      "|            218353|  5|       505942|2007-02-22 00:00:00|            61|       65|         right|             medium|             medium|      48|       43|              70|           60|     43|       50|   44|                38|          63|          48|          60|          64|     59|       46|     65|        54|     58|     54|      76|        34|        62|           40|         44|    53|       47|     62|             63|            66|        5|         10|         9|             7|          7|  1|       505942|Aaron Appindangoye|1992-02-29 00:00:00|182.88|   187|\n",
      "|            189615|  6|       155782|2016-04-21 00:00:00|            74|       76|          left|               high|             medium|      80|       53|              58|           71|     40|       73|   70|                69|          68|          71|          79|          78|     78|       67|     90|        71|     85|     79|      56|        62|        68|           67|         60|    66|       59|     76|             75|            78|       14|          7|         9|             9|         12|  2|       155782|   Aaron Cresswell|1989-12-15 00:00:00|170.18|   146|\n",
      "|            189615|  7|       155782|2016-04-07 00:00:00|            74|       76|          left|               high|             medium|      80|       53|              58|           71|     32|       73|   70|                69|          68|          71|          79|          78|     78|       67|     90|        71|     85|     79|      56|        60|        68|           67|         60|    66|       59|     76|             75|            78|       14|          7|         9|             9|         12|  2|       155782|   Aaron Cresswell|1989-12-15 00:00:00|170.18|   146|\n",
      "|            189615|  8|       155782|2016-01-07 00:00:00|            73|       75|          left|               high|             medium|      79|       52|              57|           70|     29|       71|   68|                69|          68|          70|          79|          78|     78|       67|     90|        71|     84|     79|      56|        59|        67|           66|         58|    65|       59|     76|             75|            78|       14|          7|         9|             9|         12|  2|       155782|   Aaron Cresswell|1989-12-15 00:00:00|170.18|   146|\n",
      "|            189615|  9|       155782|2015-12-24 00:00:00|            73|       75|          left|               high|             medium|      79|       51|              57|           70|     29|       71|   68|                69|          68|          70|          79|          78|     78|       67|     90|        71|     84|     79|      56|        58|        67|           66|         58|    65|       59|     76|             75|            78|       14|          7|         9|             9|         12|  2|       155782|   Aaron Cresswell|1989-12-15 00:00:00|170.18|   146|\n",
      "|            189615| 10|       155782|2015-12-17 00:00:00|            73|       75|          left|               high|             medium|      79|       51|              57|           70|     29|       71|   68|                69|          68|          70|          79|          78|     78|       67|     90|        71|     84|     79|      56|        58|        67|           66|         58|    65|       59|     76|             75|            78|       14|          7|         9|             9|         12|  2|       155782|   Aaron Cresswell|1989-12-15 00:00:00|170.18|   146|\n",
      "|            189615| 11|       155782|2015-10-16 00:00:00|            73|       77|          left|               high|             medium|      79|       51|              57|           70|     29|       71|   68|                69|          68|          70|          79|          78|     78|       67|     90|        71|     84|     79|      56|        58|        67|           66|         58|    65|       59|     76|             75|            78|       14|          7|         9|             9|         12|  2|       155782|   Aaron Cresswell|1989-12-15 00:00:00|170.18|   146|\n",
      "|            189615| 12|       155782|2015-09-25 00:00:00|            74|       78|          left|               high|             medium|      79|       51|              57|           70|     29|       71|   68|                69|          68|          70|          80|          78|     78|       67|     90|        71|     84|     79|      56|        58|        67|           66|         58|    65|       59|     76|             75|            78|       14|          7|         9|             9|         12|  2|       155782|   Aaron Cresswell|1989-12-15 00:00:00|170.18|   146|\n",
      "|            189615| 13|       155782|2015-09-21 00:00:00|            73|       77|          left|             medium|             medium|      79|       51|              57|           70|     29|       67|   68|                69|          68|          68|          79|          78|     78|       67|     90|        71|     84|     79|      56|        58|        67|           66|         58|    65|       59|     76|             75|            78|       14|          7|         9|             9|         12|  2|       155782|   Aaron Cresswell|1989-12-15 00:00:00|170.18|   146|\n",
      "|            189615| 14|       155782|2015-01-09 00:00:00|            71|       75|          left|             medium|             medium|      78|       50|              56|           69|     28|       66|   67|                68|          67|          67|          79|          82|     79|       71|     90|        70|     84|     79|      50|        56|        66|           65|         57|    64|       58|     73|             72|            72|       13|          6|         8|             8|         11|  2|       155782|   Aaron Cresswell|1989-12-15 00:00:00|170.18|   146|\n",
      "|            189615| 15|       155782|2014-12-05 00:00:00|            71|       77|          left|             medium|             medium|      78|       50|              56|           69|     28|       66|   67|                68|          67|          67|          79|          82|     79|       71|     90|        70|     84|     79|      50|        56|        66|           65|         57|    64|       58|     73|             72|            72|       13|          6|         8|             8|         11|  2|       155782|   Aaron Cresswell|1989-12-15 00:00:00|170.18|   146|\n",
      "|            189615| 16|       155782|2014-11-07 00:00:00|            71|       77|          left|             medium|             medium|      78|       50|              56|           69|     28|       66|   67|                68|          67|          67|          79|          82|     79|       71|     90|        70|     84|     79|      50|        56|        66|           65|         57|    64|       58|     73|             72|            72|       13|          6|         8|             8|         11|  2|       155782|   Aaron Cresswell|1989-12-15 00:00:00|170.18|   146|\n",
      "|            189615| 17|       155782|2014-09-18 00:00:00|            70|       77|          left|             medium|             medium|      77|       50|              51|           67|     28|       66|   67|                68|          67|          66|          79|          82|     79|       69|     90|        70|     84|     79|      50|        56|        66|           62|         57|    64|       58|     73|             72|            72|       13|          6|         8|             8|         11|  2|       155782|   Aaron Cresswell|1989-12-15 00:00:00|170.18|   146|\n",
      "|            189615| 18|       155782|2014-05-02 00:00:00|            70|       79|          left|             medium|             medium|      77|       50|              51|           67|     28|       66|   67|                68|          67|          66|          84|          82|     81|       69|     90|        70|     84|     80|      50|        56|        66|           62|         57|    64|       58|     73|             72|            72|       13|          6|         8|             8|         11|  2|       155782|   Aaron Cresswell|1989-12-15 00:00:00|170.18|   146|\n",
      "|            189615| 19|       155782|2014-04-04 00:00:00|            70|       79|          left|             medium|             medium|      77|       50|              51|           67|     28|       66|   67|                68|          67|          66|          84|          82|     81|       69|     90|        70|     84|     80|      50|        56|        66|           62|         57|    64|       58|     73|             72|            72|       13|          6|         8|             8|         11|  2|       155782|   Aaron Cresswell|1989-12-15 00:00:00|170.18|   146|\n",
      "|            189615| 20|       155782|2014-03-14 00:00:00|            70|       79|          left|             medium|             medium|      77|       50|              51|           67|     28|       66|   66|                68|          67|          65|          84|          82|     81|       69|     90|        70|     84|     79|      49|        55|        66|           62|         57|    61|       58|     73|             72|            72|       13|          6|         8|             8|         11|  2|       155782|   Aaron Cresswell|1989-12-15 00:00:00|170.18|   146|\n",
      "+------------------+---+-------------+-------------------+--------------+---------+--------------+-------------------+-------------------+--------+---------+----------------+-------------+-------+---------+-----+------------------+------------+------------+------------+------------+-------+---------+-------+----------+-------+-------+--------+----------+----------+-------------+-----------+------+---------+-------+---------------+--------------+---------+-----------+----------+--------------+-----------+---+-------------+------------------+-------------------+------+------+\n",
      "only showing top 20 rows\n",
      "\n"
     ]
    }
   ],
   "source": [
    "# doing a broadcast of our player dataset\n",
    "\n",
    "player_stats.join(broadcast(players), ['player_fifa_api_id']).show()"
   ]
  },
  {
   "cell_type": "code",
   "execution_count": 0,
   "metadata": {
    "application/vnd.databricks.v1+cell": {
     "cellMetadata": {},
     "inputWidgets": {},
     "nuid": "2a8d529e-f1b4-4be2-9412-8a559c1d2e10",
     "showTitle": false,
     "title": ""
    }
   },
   "outputs": [
    {
     "name": "stdout",
     "output_type": "stream",
     "text": [
      "+-------------------+\n",
      "|               date|\n",
      "+-------------------+\n",
      "|2016-02-18 00:00:00|\n",
      "|2015-11-19 00:00:00|\n",
      "|2015-09-21 00:00:00|\n",
      "+-------------------+\n",
      "only showing top 3 rows\n",
      "\n"
     ]
    }
   ],
   "source": [
    "player_stats.select('date').show(3)"
   ]
  },
  {
   "cell_type": "code",
   "execution_count": 0,
   "metadata": {
    "application/vnd.databricks.v1+cell": {
     "cellMetadata": {},
     "inputWidgets": {},
     "nuid": "62f9d173-325e-4afd-8bef-b199638ec301",
     "showTitle": false,
     "title": ""
    }
   },
   "outputs": [],
   "source": [
    "from pyspark.sql.functions import year"
   ]
  },
  {
   "cell_type": "code",
   "execution_count": 0,
   "metadata": {
    "application/vnd.databricks.v1+cell": {
     "cellMetadata": {},
     "inputWidgets": {},
     "nuid": "eb0f022d-9177-4c2a-aaee-dcfa75de2009",
     "showTitle": false,
     "title": ""
    }
   },
   "outputs": [],
   "source": [
    "player_stats = player_stats.withColumn('Years', year(player_stats['date']))"
   ]
  },
  {
   "cell_type": "code",
   "execution_count": 0,
   "metadata": {
    "application/vnd.databricks.v1+cell": {
     "cellMetadata": {},
     "inputWidgets": {},
     "nuid": "403ab133-582d-4b0d-992c-f27c3e67da1d",
     "showTitle": false,
     "title": ""
    }
   },
   "outputs": [
    {
     "name": "stdout",
     "output_type": "stream",
     "text": [
      "+-------------+-----+\n",
      "|player_api_id|Years|\n",
      "+-------------+-----+\n",
      "|       505942| 2016|\n",
      "|       505942| 2015|\n",
      "|       505942| 2015|\n",
      "|       505942| 2015|\n",
      "|       505942| 2007|\n",
      "|       155782| 2016|\n",
      "|       155782| 2016|\n",
      "|       155782| 2016|\n",
      "|       155782| 2015|\n",
      "|       155782| 2015|\n",
      "|       155782| 2015|\n",
      "|       155782| 2015|\n",
      "|       155782| 2015|\n",
      "|       155782| 2015|\n",
      "|       155782| 2014|\n",
      "|       155782| 2014|\n",
      "|       155782| 2014|\n",
      "|       155782| 2014|\n",
      "|       155782| 2014|\n",
      "|       155782| 2014|\n",
      "+-------------+-----+\n",
      "only showing top 20 rows\n",
      "\n"
     ]
    }
   ],
   "source": [
    "player_stats.select('player_api_id', 'Years').show()"
   ]
  },
  {
   "cell_type": "markdown",
   "metadata": {
    "application/vnd.databricks.v1+cell": {
     "cellMetadata": {},
     "inputWidgets": {},
     "nuid": "e3e70db2-e28a-41d4-a5b1-451bc6304753",
     "showTitle": false,
     "title": ""
    }
   },
   "source": [
    "#### We wanna find who are the best attacking players, without using the overall rating from the dataset. Using field of:\n",
    "\n",
    " 'sprint_speed',\n",
    " 'finishing',\n",
    " 'acceleration',\n",
    " 'shot_power'.\n",
    " \n",
    "#### To get the overall best players"
   ]
  },
  {
   "cell_type": "code",
   "execution_count": 0,
   "metadata": {
    "application/vnd.databricks.v1+cell": {
     "cellMetadata": {},
     "inputWidgets": {},
     "nuid": "76579d1a-66ec-421d-b18b-1d6a6f1d8dc1",
     "showTitle": false,
     "title": ""
    }
   },
   "outputs": [
    {
     "name": "stdout",
     "output_type": "stream",
     "text": [
      "Out[24]: ['id',\n",
      " 'player_fifa_api_id',\n",
      " 'player_api_id',\n",
      " 'date',\n",
      " 'overall_rating',\n",
      " 'potential',\n",
      " 'preferred_foot',\n",
      " 'attacking_work_rate',\n",
      " 'defensive_work_rate',\n",
      " 'crossing',\n",
      " 'finishing',\n",
      " 'heading_accuracy',\n",
      " 'short_passing',\n",
      " 'volleys',\n",
      " 'dribbling',\n",
      " 'curve',\n",
      " 'free_kick_accuracy',\n",
      " 'long_passing',\n",
      " 'ball_control',\n",
      " 'acceleration',\n",
      " 'sprint_speed',\n",
      " 'agility',\n",
      " 'reactions',\n",
      " 'balance',\n",
      " 'shot_power',\n",
      " 'jumping',\n",
      " 'stamina',\n",
      " 'strength',\n",
      " 'long_shots',\n",
      " 'aggression',\n",
      " 'interceptions',\n",
      " 'positioning',\n",
      " 'vision',\n",
      " 'penalties',\n",
      " 'marking',\n",
      " 'standing_tackle',\n",
      " 'sliding_tackle',\n",
      " 'gk_diving',\n",
      " 'gk_handling',\n",
      " 'gk_kicking',\n",
      " 'gk_positioning',\n",
      " 'gk_reflexes',\n",
      " 'Years']"
     ]
    }
   ],
   "source": [
    "player_stats.columns"
   ]
  },
  {
   "cell_type": "code",
   "execution_count": 0,
   "metadata": {
    "application/vnd.databricks.v1+cell": {
     "cellMetadata": {},
     "inputWidgets": {},
     "nuid": "1f5233bf-5e39-4df5-9c59-7db4180dc144",
     "showTitle": false,
     "title": ""
    }
   },
   "outputs": [],
   "source": [
    "#  We wanna create A dataframe whereby for each year, each player occur only once.\n",
    "\n",
    "grouped_stats = player_stats.groupBy('player_api_id', 'Years').agg\\\n",
    "    ({'sprint_speed':'mean', 'finishing':'mean', \n",
    "      'acceleration':'mean', 'shot_power':'mean'})"
   ]
  },
  {
   "cell_type": "code",
   "execution_count": 0,
   "metadata": {
    "application/vnd.databricks.v1+cell": {
     "cellMetadata": {},
     "inputWidgets": {},
     "nuid": "77788b18-b474-4493-9f48-2e31a192ff27",
     "showTitle": false,
     "title": ""
    }
   },
   "outputs": [
    {
     "name": "stdout",
     "output_type": "stream",
     "text": [
      "+-------------+-----+------------------+-----------------+-----------------+-----------------+\n",
      "|player_api_id|Years|    avg(finishing)|avg(acceleration)|avg(sprint_speed)|  avg(shot_power)|\n",
      "+-------------+-----+------------------+-----------------+-----------------+-----------------+\n",
      "|       191784| 2015|              21.6|             31.0|             55.0|             57.6|\n",
      "|       209372| 2015| 65.66666666666667|71.66666666666667|             74.0|73.66666666666667|\n",
      "|       170593| 2014|              42.0|             80.5|             82.0|             68.0|\n",
      "|       185336| 2012|              63.0|             71.0|             68.0|             76.0|\n",
      "|       243068| 2016|              66.0|             78.0|             76.0|             69.0|\n",
      "|        47394| 2015|              70.8|             76.5|             69.3|             74.6|\n",
      "|        39311| 2008|              92.0|             88.0|             84.0|             87.0|\n",
      "|       182847| 2013|              38.0|             63.0|             64.0|             62.0|\n",
      "|        36785| 2011|              42.0|             68.0|             73.0|             71.0|\n",
      "|        97657| 2015|              54.0|             64.0|             60.0|             66.0|\n",
      "|       302911| 2014|              34.0|             66.0|             60.0|             66.0|\n",
      "|        16351| 2015|54.666666666666664|70.66666666666667|66.33333333333333|90.66666666666667|\n",
      "|       155739| 2014|              44.2|             69.2|             69.0|             60.0|\n",
      "|       306158| 2014|              60.0|             78.0|             72.0|             58.0|\n",
      "|        39145| 2008|              52.0|             62.0|             67.0|             58.0|\n",
      "|       154238| 2016|              31.0|             73.0|             75.0|             61.0|\n",
      "|       264842| 2012|              57.5|             64.5|             59.0|             67.0|\n",
      "|       396888| 2015|              44.0|             90.0|             86.0|             56.0|\n",
      "|        31672| 2016|              59.0|             67.5|             67.5|             80.0|\n",
      "|        71764| 2009|              57.0|             77.0|             65.0|             57.0|\n",
      "+-------------+-----+------------------+-----------------+-----------------+-----------------+\n",
      "only showing top 20 rows\n",
      "\n"
     ]
    }
   ],
   "source": [
    "grouped_stats.show()"
   ]
  },
  {
   "cell_type": "code",
   "execution_count": 0,
   "metadata": {
    "application/vnd.databricks.v1+cell": {
     "cellMetadata": {},
     "inputWidgets": {},
     "nuid": "b7474977-84fd-495e-b91c-e0fa326e495e",
     "showTitle": false,
     "title": ""
    }
   },
   "outputs": [],
   "source": [
    "# Create a new col to sum all the grouped_Stats to get the best players\n",
    "\n",
    "grouped_stats = grouped_stats.withColumn('overall', (grouped_stats['avg(finishing)'] + grouped_stats['avg(acceleration)'] + grouped_stats['avg(sprint_speed)'] + grouped_stats['avg(shot_power)'])\n",
    "                                        / 4)\n",
    "# Doing a divide by 4 is like getting the percent of the matrics"
   ]
  },
  {
   "cell_type": "code",
   "execution_count": 0,
   "metadata": {
    "application/vnd.databricks.v1+cell": {
     "cellMetadata": {},
     "inputWidgets": {},
     "nuid": "d24a675b-b4cc-42e0-995b-ab3ac5fa91e4",
     "showTitle": false,
     "title": ""
    }
   },
   "outputs": [
    {
     "name": "stdout",
     "output_type": "stream",
     "text": [
      "+-------------+-----+--------------+-----------------+-----------------+-----------------+-----------------+\n",
      "|player_api_id|Years|avg(finishing)|avg(acceleration)|avg(sprint_speed)|  avg(shot_power)|          overall|\n",
      "+-------------+-----+--------------+-----------------+-----------------+-----------------+-----------------+\n",
      "|        30893| 2015|          95.0|             91.0|             93.4|             94.0|            93.35|\n",
      "|        30893| 2008|          92.0|             95.0|             94.0|             92.0|            93.25|\n",
      "|        33639| 2007|          94.0|             95.0|             94.0|             89.5|           93.125|\n",
      "|        30893| 2014|          93.5|             91.0|             94.0|             94.0|           93.125|\n",
      "|        30893| 2013|          92.0|             91.0|             94.0|             94.4|            92.85|\n",
      "|        30893| 2010|          89.5|             93.0|             94.0|             92.5|            92.25|\n",
      "|        30893| 2011|          90.0|             91.5|             94.0|             93.0|           92.125|\n",
      "|        30893| 2012|          90.5|             90.0|             94.0|             93.5|             92.0|\n",
      "|        30893| 2009|          90.5|             93.5|             93.0|             90.5|           91.875|\n",
      "|        30853| 2009|          95.0|             94.5|             92.0|             85.5|            91.75|\n",
      "|        30626| 2007|          95.0|             93.0|             92.5|             86.0|           91.625|\n",
      "|        33639| 2009|          93.0|             92.0|             92.5|             89.0|           91.625|\n",
      "|        33639| 2008|          92.0|             92.0|             92.0|             89.0|            91.25|\n",
      "|        30853| 2008|          95.0|             95.0|             91.0|             82.0|            90.75|\n",
      "|        30981| 2013|          97.0|             95.4|             89.8|             80.4|            90.65|\n",
      "|        32118| 2008|          88.0|             91.0|             91.0|             92.0|             90.5|\n",
      "|        30829| 2007|          91.5|             90.0|             87.5|             93.0|             90.5|\n",
      "|        30981| 2012|          94.0|             95.0|             92.0|             80.0|            90.25|\n",
      "|        30981| 2014|          95.0|             96.0|89.33333333333333|80.33333333333333|90.16666666666666|\n",
      "|        33639| 2011|          91.5|             91.5|             93.0|             84.5|           90.125|\n",
      "+-------------+-----+--------------+-----------------+-----------------+-----------------+-----------------+\n",
      "only showing top 20 rows\n",
      "\n"
     ]
    }
   ],
   "source": [
    "# We want our best player by the overall criteria\n",
    "\n",
    "grouped_stats.orderBy('overall', ascending = False).show()"
   ]
  },
  {
   "cell_type": "code",
   "execution_count": 0,
   "metadata": {
    "application/vnd.databricks.v1+cell": {
     "cellMetadata": {},
     "inputWidgets": {},
     "nuid": "044f75f6-a661-49b8-9e8f-b94d8e568bfc",
     "showTitle": false,
     "title": ""
    }
   },
   "outputs": [
    {
     "name": "stdout",
     "output_type": "stream",
     "text": [
      "Out[29]: 73059"
     ]
    }
   ],
   "source": [
    "# We now have lesser rows compare to the main dataset\n",
    "grouped_stats.count()"
   ]
  },
  {
   "cell_type": "code",
   "execution_count": 0,
   "metadata": {
    "application/vnd.databricks.v1+cell": {
     "cellMetadata": {},
     "inputWidgets": {},
     "nuid": "3824e79e-c98e-4ec6-998d-66f2da15744a",
     "showTitle": false,
     "title": ""
    }
   },
   "outputs": [],
   "source": [
    "# We now join the players dataset to it.\n",
    "\n",
    "final_best_players = grouped_stats.join(players, ['player_api_id']).orderBy('overall', ascending= False)"
   ]
  },
  {
   "cell_type": "code",
   "execution_count": 0,
   "metadata": {
    "application/vnd.databricks.v1+cell": {
     "cellMetadata": {},
     "inputWidgets": {},
     "nuid": "c3237f31-782e-4aa9-a22f-5ebed92da6fb",
     "showTitle": false,
     "title": ""
    }
   },
   "outputs": [
    {
     "name": "stdout",
     "output_type": "stream",
     "text": [
      "+-------------+-----+--------------+-----------------+-----------------+-----------------+-----------------+-----+-----------------+------------------+-------------------+------+------+\n",
      "|player_api_id|Years|avg(finishing)|avg(acceleration)|avg(sprint_speed)|  avg(shot_power)|          overall|   id|      player_name|player_fifa_api_id|           birthday|height|weight|\n",
      "+-------------+-----+--------------+-----------------+-----------------+-----------------+-----------------+-----+-----------------+------------------+-------------------+------+------+\n",
      "|        30893| 2015|          95.0|             91.0|             93.4|             94.0|            93.35| 1995|Cristiano Ronaldo|             20801|1985-02-05 00:00:00|185.42|   176|\n",
      "|        30893| 2008|          92.0|             95.0|             94.0|             92.0|            93.25| 1995|Cristiano Ronaldo|             20801|1985-02-05 00:00:00|185.42|   176|\n",
      "|        33639| 2007|          94.0|             95.0|             94.0|             89.5|           93.125| 9445|     Samuel Eto'o|              9676|1981-03-10 00:00:00| 177.8|   165|\n",
      "|        30893| 2014|          93.5|             91.0|             94.0|             94.0|           93.125| 1995|Cristiano Ronaldo|             20801|1985-02-05 00:00:00|185.42|   176|\n",
      "|        30893| 2013|          92.0|             91.0|             94.0|             94.4|            92.85| 1995|Cristiano Ronaldo|             20801|1985-02-05 00:00:00|185.42|   176|\n",
      "|        30893| 2010|          89.5|             93.0|             94.0|             92.5|            92.25| 1995|Cristiano Ronaldo|             20801|1985-02-05 00:00:00|185.42|   176|\n",
      "|        30893| 2011|          90.0|             91.5|             94.0|             93.0|           92.125| 1995|Cristiano Ronaldo|             20801|1985-02-05 00:00:00|185.42|   176|\n",
      "|        30893| 2012|          90.5|             90.0|             94.0|             93.5|             92.0| 1995|Cristiano Ronaldo|             20801|1985-02-05 00:00:00|185.42|   176|\n",
      "|        30893| 2009|          90.5|             93.5|             93.0|             90.5|           91.875| 1995|Cristiano Ronaldo|             20801|1985-02-05 00:00:00|185.42|   176|\n",
      "|        30853| 2009|          95.0|             94.5|             92.0|             85.5|            91.75| 3335|  Fernando Torres|             49369|1984-03-20 00:00:00|185.42|   172|\n",
      "|        30626| 2007|          95.0|             93.0|             92.5|             86.0|           91.625|10203|    Thierry Henry|              1625|1977-08-17 00:00:00|187.96|   183|\n",
      "|        33639| 2009|          93.0|             92.0|             92.5|             89.0|           91.625| 9445|     Samuel Eto'o|              9676|1981-03-10 00:00:00| 177.8|   165|\n",
      "|        33639| 2008|          92.0|             92.0|             92.0|             89.0|            91.25| 9445|     Samuel Eto'o|              9676|1981-03-10 00:00:00| 177.8|   165|\n",
      "|        30853| 2008|          95.0|             95.0|             91.0|             82.0|            90.75| 3335|  Fernando Torres|             49369|1984-03-20 00:00:00|185.42|   172|\n",
      "|        30981| 2013|          97.0|             95.4|             89.8|             80.4|            90.65| 6176|     Lionel Messi|            158023|1987-06-24 00:00:00|170.18|   159|\n",
      "|        32118| 2008|          88.0|             91.0|             91.0|             92.0|             90.5| 6400|   Lukas Podolski|            150516|1985-06-04 00:00:00|182.88|   183|\n",
      "|        30829| 2007|          91.5|             90.0|             87.5|             93.0|             90.5|10749|     Wayne Rooney|             54050|1985-10-24 00:00:00|175.26|   183|\n",
      "|        30981| 2012|          94.0|             95.0|             92.0|             80.0|            90.25| 6176|     Lionel Messi|            158023|1987-06-24 00:00:00|170.18|   159|\n",
      "|        30981| 2014|          95.0|             96.0|89.33333333333333|80.33333333333333|90.16666666666666| 6176|     Lionel Messi|            158023|1987-06-24 00:00:00|170.18|   159|\n",
      "|        33639| 2011|          91.5|             91.5|             93.0|             84.5|           90.125| 9445|     Samuel Eto'o|              9676|1981-03-10 00:00:00| 177.8|   165|\n",
      "+-------------+-----+--------------+-----------------+-----------------+-----------------+-----------------+-----+-----------------+------------------+-------------------+------+------+\n",
      "only showing top 20 rows\n",
      "\n"
     ]
    }
   ],
   "source": [
    "final_best_players.show()"
   ]
  },
  {
   "cell_type": "code",
   "execution_count": 0,
   "metadata": {
    "application/vnd.databricks.v1+cell": {
     "cellMetadata": {},
     "inputWidgets": {},
     "nuid": "1ae776ab-3a68-4cfd-a050-18972b35bab5",
     "showTitle": false,
     "title": ""
    }
   },
   "outputs": [
    {
     "name": "stdout",
     "output_type": "stream",
     "text": [
      "+-----+-----------------+-----------------+\n",
      "|Years|          overall|      player_name|\n",
      "+-----+-----------------+-----------------+\n",
      "| 2015|            93.35|Cristiano Ronaldo|\n",
      "| 2008|            93.25|Cristiano Ronaldo|\n",
      "| 2007|           93.125|     Samuel Eto'o|\n",
      "| 2014|           93.125|Cristiano Ronaldo|\n",
      "| 2013|            92.85|Cristiano Ronaldo|\n",
      "| 2010|            92.25|Cristiano Ronaldo|\n",
      "| 2011|           92.125|Cristiano Ronaldo|\n",
      "| 2012|             92.0|Cristiano Ronaldo|\n",
      "| 2009|           91.875|Cristiano Ronaldo|\n",
      "| 2009|            91.75|  Fernando Torres|\n",
      "| 2007|           91.625|    Thierry Henry|\n",
      "| 2009|           91.625|     Samuel Eto'o|\n",
      "| 2008|            91.25|     Samuel Eto'o|\n",
      "| 2008|            90.75|  Fernando Torres|\n",
      "| 2013|            90.65|     Lionel Messi|\n",
      "| 2008|             90.5|   Lukas Podolski|\n",
      "| 2007|             90.5|     Wayne Rooney|\n",
      "| 2012|            90.25|     Lionel Messi|\n",
      "| 2014|90.16666666666666|     Lionel Messi|\n",
      "| 2011|           90.125|     Samuel Eto'o|\n",
      "+-----+-----------------+-----------------+\n",
      "only showing top 20 rows\n",
      "\n"
     ]
    }
   ],
   "source": [
    "final_best_players = final_best_players.select('Years', 'overall', 'player_name')\n",
    "final_best_players.show()"
   ]
  },
  {
   "cell_type": "code",
   "execution_count": 0,
   "metadata": {
    "application/vnd.databricks.v1+cell": {
     "cellMetadata": {},
     "inputWidgets": {},
     "nuid": "1a0e0607-1606-46d2-881f-dab503659b52",
     "showTitle": false,
     "title": ""
    }
   },
   "outputs": [
    {
     "name": "stdout",
     "output_type": "stream",
     "text": [
      "+-----+-----------------+--------------------+\n",
      "|Years|          overall|         player_name|\n",
      "+-----+-----------------+--------------------+\n",
      "| 2015|            93.35|   Cristiano Ronaldo|\n",
      "| 2015|89.78571428571428|        Lionel Messi|\n",
      "| 2015|             89.0|         Gareth Bale|\n",
      "| 2015|88.91666666666666|        Arjen Robben|\n",
      "| 2015|88.32499999999999|Pierre-Emerick Au...|\n",
      "| 2015|            87.95|       Sergio Aguero|\n",
      "| 2015|             87.5|        Theo Walcott|\n",
      "| 2015|87.33333333333334|          Marco Reus|\n",
      "| 2015|             87.0|                Hulk|\n",
      "| 2015|          86.6875|        Carlos Tevez|\n",
      "| 2015|             86.5|      Seydou Doumbia|\n",
      "| 2015|          86.4375| Alexandre Lacazette|\n",
      "| 2015|          86.3125|    Daniel Sturridge|\n",
      "| 2015|             86.0|       Juan Cuadrado|\n",
      "| 2015|           85.875|              Neymar|\n",
      "| 2015|            85.75|          Ahmed Musa|\n",
      "| 2015|85.64285714285714|         Luis Suarez|\n",
      "| 2015|             85.5|         Eden Hazard|\n",
      "| 2015|85.32142857142856|     Obafemi Martins|\n",
      "| 2015|          85.3125|     Andre Schuerrle|\n",
      "+-----+-----------------+--------------------+\n",
      "only showing top 20 rows\n",
      "\n"
     ]
    }
   ],
   "source": [
    "# To get the top players for a certain year :\n",
    "\n",
    "year = 2015\n",
    "\n",
    "final_best_players.filter(final_best_players.Years == year).show()"
   ]
  },
  {
   "cell_type": "markdown",
   "metadata": {
    "application/vnd.databricks.v1+cell": {
     "cellMetadata": {},
     "inputWidgets": {},
     "nuid": "86ee763f-f2a8-47c3-a298-71859526a61e",
     "showTitle": false,
     "title": ""
    }
   },
   "source": [
    "INTRODUCTION TO SPARK SQL (SQL LIKE)\n",
    "\n",
    "In spark you can't directly do this:\n",
    "\n",
    "SELECT * FROM players\n",
    "\n",
    "The reason is we are referencing to the players table. \n",
    "Our first step to create a 'SQL LIKE' table which we can query with spark >>>\n",
    "\n",
    "players.createOrReplaceTempView('players')\n",
    "\n",
    "Here we are defining a sql view, which is coming from our df, so sql is interpreting the metadata of our df and creating a table called players."
   ]
  },
  {
   "cell_type": "code",
   "execution_count": 0,
   "metadata": {
    "application/vnd.databricks.v1+cell": {
     "cellMetadata": {},
     "inputWidgets": {},
     "nuid": "c7fb3953-100b-454f-80f8-3c152c15b880",
     "showTitle": false,
     "title": ""
    }
   },
   "outputs": [],
   "source": [
    "# Here we are creating our temp 'SQL LIKE' table from the df and associating it with spark\n",
    "\n",
    "players.createOrReplaceTempView('players')"
   ]
  },
  {
   "cell_type": "code",
   "execution_count": 0,
   "metadata": {
    "application/vnd.databricks.v1+cell": {
     "cellMetadata": {},
     "inputWidgets": {},
     "nuid": "60d00b85-96f3-4852-897b-be2b5169b312",
     "showTitle": false,
     "title": ""
    }
   },
   "outputs": [
    {
     "name": "stdout",
     "output_type": "stream",
     "text": [
      "+---+-------------+--------------------+------------------+-------------------+------+------+\n",
      "| id|player_api_id|         player_name|player_fifa_api_id|           birthday|height|weight|\n",
      "+---+-------------+--------------------+------------------+-------------------+------+------+\n",
      "|  1|       505942|  Aaron Appindangoye|            218353|1992-02-29 00:00:00|182.88|   187|\n",
      "|  2|       155782|     Aaron Cresswell|            189615|1989-12-15 00:00:00|170.18|   146|\n",
      "|  3|       162549|         Aaron Doran|            186170|1991-05-13 00:00:00|170.18|   163|\n",
      "|  4|        30572|       Aaron Galindo|            140161|1982-05-08 00:00:00|182.88|   198|\n",
      "|  5|        23780|        Aaron Hughes|             17725|1979-11-08 00:00:00|182.88|   154|\n",
      "|  6|        27316|          Aaron Hunt|            158138|1986-09-04 00:00:00|182.88|   161|\n",
      "|  7|       564793|          Aaron Kuhl|            221280|1996-01-30 00:00:00|172.72|   146|\n",
      "|  8|        30895|        Aaron Lennon|            152747|1987-04-16 00:00:00| 165.1|   139|\n",
      "|  9|       528212|        Aaron Lennox|            206592|1993-02-19 00:00:00| 190.5|   181|\n",
      "| 10|       101042|       Aaron Meijers|            188621|1987-10-28 00:00:00|175.26|   170|\n",
      "| 11|        23889|       Aaron Mokoena|             47189|1980-11-25 00:00:00|182.88|   181|\n",
      "| 12|       231592|          Aaron Mooy|            194958|1990-09-15 00:00:00|175.26|   150|\n",
      "| 13|       163222|      Aaron Muirhead|            213568|1990-08-30 00:00:00|187.96|   168|\n",
      "| 14|        40719|        Aaron Niguez|            183853|1989-04-26 00:00:00|170.18|   143|\n",
      "| 15|        75489|        Aaron Ramsey|            186561|1990-12-26 00:00:00| 177.8|   154|\n",
      "| 16|       597948|       Aaron Splaine|            226014|1996-10-13 00:00:00|172.72|   163|\n",
      "| 17|       161644|Aaron Taylor-Sinc...|            213569|1991-04-08 00:00:00|182.88|   176|\n",
      "| 18|        23499|     Aaron Wilbraham|              2335|1979-10-21 00:00:00| 190.5|   159|\n",
      "| 19|       120919|   Aatif Chahechouhe|            187939|1986-07-02 00:00:00|175.26|   150|\n",
      "| 20|        46447|           Abasse Ba|            156626|1976-07-12 00:00:00|187.96|   185|\n",
      "+---+-------------+--------------------+------------------+-------------------+------+------+\n",
      "only showing top 20 rows\n",
      "\n"
     ]
    }
   ],
   "source": [
    "#We can now communicate with sql with spark in this manner, whereby we wrap it with spark.sql\n",
    "\n",
    "spark.sql('SELECT * FROM players').show()"
   ]
  },
  {
   "cell_type": "code",
   "execution_count": 0,
   "metadata": {
    "application/vnd.databricks.v1+cell": {
     "cellMetadata": {},
     "inputWidgets": {},
     "nuid": "649ec847-5d0c-4cdb-acb3-d504a2b6bd1f",
     "showTitle": false,
     "title": ""
    }
   },
   "outputs": [],
   "source": [
    "df_players = spark.sql('SELECT *\\\n",
    "          FROM players\\\n",
    "          WHERE height > 170 ORDER BY height DESC')"
   ]
  },
  {
   "cell_type": "code",
   "execution_count": 0,
   "metadata": {
    "application/vnd.databricks.v1+cell": {
     "cellMetadata": {},
     "inputWidgets": {},
     "nuid": "7e45e497-d14f-4540-b383-a2060565afde",
     "showTitle": false,
     "title": ""
    }
   },
   "outputs": [
    {
     "name": "stdout",
     "output_type": "stream",
     "text": [
      "+--------------------+\n",
      "|         player_name|\n",
      "+--------------------+\n",
      "|    Kristof van Hout|\n",
      "|        Bogdan Milic|\n",
      "|   Costel Pantilimon|\n",
      "|        Fejsal Mulic|\n",
      "|       Jurgen Wevers|\n",
      "|          Kevin Vink|\n",
      "|       Lacina Traore|\n",
      "|        Nikola Zigic|\n",
      "|       Paolo Acerbis|\n",
      "|       Pietro Marino|\n",
      "|   Stefan Maierhofer|\n",
      "|Vanja Milinkovic-...|\n",
      "|        Zeljko Kalac|\n",
      "|           Abdoul Ba|\n",
      "|       Asmir Begovic|\n",
      "|         Daniel Burn|\n",
      "|      Danny Wintjens|\n",
      "|      Fraser Forster|\n",
      "|      Konrad Jalocha|\n",
      "|        Peter Crouch|\n",
      "+--------------------+\n",
      "only showing top 20 rows\n",
      "\n"
     ]
    }
   ],
   "source": [
    " df_players.select('player_name').show()"
   ]
  },
  {
   "cell_type": "code",
   "execution_count": 0,
   "metadata": {
    "application/vnd.databricks.v1+cell": {
     "cellMetadata": {},
     "inputWidgets": {},
     "nuid": "3673cbf5-fe5d-4944-8cb7-ba3b5c520a49",
     "showTitle": false,
     "title": ""
    }
   },
   "outputs": [],
   "source": [
    "player_stats.createOrReplaceTempView('stats')"
   ]
  },
  {
   "cell_type": "code",
   "execution_count": 0,
   "metadata": {
    "application/vnd.databricks.v1+cell": {
     "cellMetadata": {},
     "inputWidgets": {},
     "nuid": "9e55c750-f892-4373-baf0-fed90e37c073",
     "showTitle": false,
     "title": ""
    }
   },
   "outputs": [
    {
     "name": "stdout",
     "output_type": "stream",
     "text": [
      "+-------+\n",
      "|Stamina|\n",
      "+-------+\n",
      "|     54|\n",
      "|     54|\n",
      "|     54|\n",
      "|     54|\n",
      "|     54|\n",
      "|     79|\n",
      "|     79|\n",
      "|     79|\n",
      "|     79|\n",
      "|     79|\n",
      "|     79|\n",
      "|     79|\n",
      "|     79|\n",
      "|     79|\n",
      "|     79|\n",
      "|     79|\n",
      "|     79|\n",
      "|     80|\n",
      "|     80|\n",
      "|     79|\n",
      "+-------+\n",
      "only showing top 20 rows\n",
      "\n"
     ]
    }
   ],
   "source": [
    "''' Here we use sql query and further combine with pyspark df operation , if you notice, the pyspark part here, we used player_stats rather than stats, \n",
    "#this is because we have moved outta the sql query.'''\n",
    "\n",
    "#NOTE: Always remember to wrap your sql query in colon ''\n",
    "\n",
    "#spark.sql('SELECT * FROM stats').filter(player_stats['Stamina'] > 50).select('Stamina').show()\n",
    "spark.sql('SELECT * FROM stats WHERE stamina > 50').select('Stamina').show()"
   ]
  },
  {
   "cell_type": "code",
   "execution_count": 0,
   "metadata": {
    "application/vnd.databricks.v1+cell": {
     "cellMetadata": {},
     "inputWidgets": {},
     "nuid": "47a8cf4a-5951-4e4a-9cdb-be6c3dc00964",
     "showTitle": false,
     "title": ""
    }
   },
   "outputs": [],
   "source": [
    "# I first select the first 50, and then groupby in pyspark and agg over the overall mean (agg the top 50), so it return the result from the top 20, which will be lesser than 50. \n",
    "\n",
    "goats = spark.sql('SELECT player_api_id, overall_rating FROM stats ORDER BY overall_rating DESC LIMIT 50').groupby('player_api_id').agg({'overall_rating' : 'mean'})\n",
    "\n",
    "goats.createOrReplaceTempView('goats')"
   ]
  },
  {
   "cell_type": "markdown",
   "metadata": {
    "application/vnd.databricks.v1+cell": {
     "cellMetadata": {},
     "inputWidgets": {},
     "nuid": "0375d962-dde6-4c7d-bf44-8cddae3666c0",
     "showTitle": false,
     "title": ""
    }
   },
   "source": [
    "Above i saved it to Tempview \n",
    "\n",
    "\n",
    "JOINS WITH SPARK SQL\n",
    "\n",
    "Below, then call sql like way."
   ]
  },
  {
   "cell_type": "code",
   "execution_count": 0,
   "metadata": {
    "application/vnd.databricks.v1+cell": {
     "cellMetadata": {},
     "inputWidgets": {},
     "nuid": "b9cc8711-1f65-43ce-bd6c-7136805c6340",
     "showTitle": false,
     "title": ""
    }
   },
   "outputs": [
    {
     "name": "stdout",
     "output_type": "stream",
     "text": [
      "+-------------+-------------------+-----+-----------------+------------------+-------------------+------+------+\n",
      "|player_api_id|avg(overall_rating)|   id|      player_name|player_fifa_api_id|           birthday|height|weight|\n",
      "+-------------+-------------------+-----+-----------------+------------------+-------------------+------+------+\n",
      "|        30723|               91.0|  388| Alessandro Nesta|              1088|1976-03-19 00:00:00|187.96|   174|\n",
      "|        30955|               91.0|  742|   Andres Iniesta|                41|1984-05-11 00:00:00|170.18|   150|\n",
      "|        30893|  92.05263157894737| 1995|Cristiano Ronaldo|             20801|1985-02-05 00:00:00|185.42|   176|\n",
      "|        34520|               91.0| 3183|  Fabio Cannavaro|              1183|1973-09-13 00:00:00|175.26|   165|\n",
      "|        30717|               92.0| 3826| Gianluigi Buffon|              1179|1978-01-28 00:00:00|193.04|   201|\n",
      "|        39989|               92.0| 3994|   Gregory Coupet|              1747|1972-12-31 00:00:00|180.34|   176|\n",
      "|        30657|               91.0| 4366|    Iker Casillas|              5479|1981-05-20 00:00:00|185.42|   185|\n",
      "|        30627|               91.0| 5120|       John Terry|             13732|1980-12-07 00:00:00|187.96|   198|\n",
      "|        30981|  93.66666666666667| 6176|     Lionel Messi|            158023|1987-06-24 00:00:00|170.18|   159|\n",
      "|        30829|               93.0|10749|     Wayne Rooney|             54050|1985-10-24 00:00:00|175.26|   183|\n",
      "|        39854|               92.0|10861|   Xavi Hernandez|             10535|1980-01-25 00:00:00|170.18|   148|\n",
      "+-------------+-------------------+-----+-----------------+------------------+-------------------+------+------+\n",
      "\n"
     ]
    }
   ],
   "source": [
    "spark.sql('SELECT * FROM goats INNER JOIN players USING(player_api_id)').show()"
   ]
  },
  {
   "cell_type": "markdown",
   "metadata": {
    "application/vnd.databricks.v1+cell": {
     "cellMetadata": {},
     "inputWidgets": {},
     "nuid": "60e427eb-3fe6-4fa9-8c7f-3802b3e4878a",
     "showTitle": false,
     "title": ""
    }
   },
   "source": [
    "GROUP BY IS EASY TO MANIPULATE WITH SQL BUT IF I WANNA JOIN WITH BROADCAST I WILL RATHER USE PYSPARK DF LOGIC"
   ]
  },
  {
   "cell_type": "markdown",
   "metadata": {
    "application/vnd.databricks.v1+cell": {
     "cellMetadata": {},
     "inputWidgets": {},
     "nuid": "73e49c61-fbef-4d12-a148-300cda3ce875",
     "showTitle": false,
     "title": ""
    }
   },
   "source": [
    "WINDOW FUNCTIONS WITH SQL (SQL IS VERY POWERFUL WITH WINDOW FUNCTIONS)\n",
    "\n",
    "Window functions operation allows all the rows that is in the column to get max of it without having to groupby, \n",
    "\n",
    "because if with groupby i will be loosing the detail of the year or other field selected, but we dont want that.\n",
    "\n",
    "IN WINDOW FUNCTIONS you select the fields and Simply state the operation you want (maybe max()), THEN OVER what you want it \n",
    "\n",
    "(This means i want it to go through all the date/year and see for each player the best / max rating in his history) And \n",
    "\n",
    "make sure you always PARTITION the OVER field, so it can calculate the max id per player, or else it will give you\n",
    "\n",
    "result of the max player and apply it to all players."
   ]
  },
  {
   "cell_type": "code",
   "execution_count": 0,
   "metadata": {
    "application/vnd.databricks.v1+cell": {
     "cellMetadata": {},
     "inputWidgets": {},
     "nuid": "3edf4ac7-8362-46f7-a7b0-618a5ee2104f",
     "showTitle": false,
     "title": ""
    }
   },
   "outputs": [
    {
     "name": "stdout",
     "output_type": "stream",
     "text": [
      "+-------------+------------+\n",
      "|player_api_id|Maximum_ever|\n",
      "+-------------+------------+\n",
      "|       101042|          64|\n",
      "|       101042|          64|\n",
      "|       101042|          64|\n",
      "|       101042|          67|\n",
      "|       101042|          68|\n",
      "|       101042|          68|\n",
      "|       101042|          68|\n",
      "|       101042|          68|\n",
      "|       101042|          68|\n",
      "|       101042|          68|\n",
      "|       101042|          68|\n",
      "|       101042|          68|\n",
      "|       101042|          68|\n",
      "|       101042|          68|\n",
      "|       101042|          68|\n",
      "|       101042|          69|\n",
      "|       101042|          69|\n",
      "|       101042|          69|\n",
      "|       101042|          69|\n",
      "|       101070|          68|\n",
      "+-------------+------------+\n",
      "only showing top 20 rows\n",
      "\n"
     ]
    }
   ],
   "source": [
    "spark.sql('SELECT player_api_id, Years, MAX(overall_rating) OVER (PARTITION BY player_api_id ORDER BY date) AS Maximum_ever FROM stats').select('player_api_id', 'Maximum_ever').show()"
   ]
  },
  {
   "cell_type": "markdown",
   "metadata": {
    "application/vnd.databricks.v1+cell": {
     "cellMetadata": {},
     "inputWidgets": {},
     "nuid": "f24b8bc6-177a-4467-8dfc-7f0045615fc0",
     "showTitle": false,
     "title": ""
    }
   },
   "source": [
    "PARTITION \n",
    " \n",
    "IT BREAKS UP THE FILES TO PARTITION IN THE SMARTEST WAY POSSIBLE TO BE ABLE TO MAKE THIS OPERATION AS ULTIMA AS POSSIBLE.\n",
    "We will use aparche pauquet to do our partitioning.\n",
    "Aparche Pauquet means column_oriented data file format designed for efficient data storage and retrival. By default we can't ctrl the partition.\n",
    "We have RDD, so we can get the number of partition of a certain rdd/df. For our sample superstore because i got it from a csv file there were no partition involved. \n",
    " \n",
    "\n",
    "NOTE: if read csv from my computer i get one partition by default and so all operation will be carried out in 1 partition, but now that i repartition it and i store my file in parquet format in 6 partition, now when i read the parquet file it already 6 partition and so the data is very more optimized."
   ]
  },
  {
   "cell_type": "code",
   "execution_count": 0,
   "metadata": {
    "application/vnd.databricks.v1+cell": {
     "cellMetadata": {},
     "inputWidgets": {},
     "nuid": "772f03cf-fcb5-42c1-a545-4b3fd3bcba6a",
     "showTitle": false,
     "title": ""
    }
   },
   "outputs": [
    {
     "name": "stdout",
     "output_type": "stream",
     "text": [
      "Out[96]: DataFrame[id: string, player_fifa_api_id: string, player_api_id: string, date: string, overall_rating: string, potential: string, preferred_foot: string, attacking_work_rate: string, defensive_work_rate: string, crossing: string, finishing: int, heading_accuracy: string, short_passing: string, volleys: string, dribbling: string, curve: string, free_kick_accuracy: string, long_passing: string, ball_control: string, acceleration: int, sprint_speed: int, agility: string, reactions: string, balance: string, shot_power: int, jumping: string, stamina: int, strength: string, long_shots: string, aggression: string, interceptions: string, positioning: string, vision: string, penalties: string, marking: string, standing_tackle: string, sliding_tackle: string, gk_diving: string, gk_handling: string, gk_kicking: string, gk_positioning: string, gk_reflexes: string, Years: int]"
     ]
    }
   ],
   "source": [
    "player_stats"
   ]
  },
  {
   "cell_type": "code",
   "execution_count": 0,
   "metadata": {
    "application/vnd.databricks.v1+cell": {
     "cellMetadata": {},
     "inputWidgets": {},
     "nuid": "35f044bf-d5c9-4dfd-83b9-d06063c19b96",
     "showTitle": false,
     "title": ""
    }
   },
   "outputs": [
    {
     "name": "stdout",
     "output_type": "stream",
     "text": [
      "Out[98]: 8"
     ]
    }
   ],
   "source": [
    "player_stats.rdd.getNumPartitions()\n",
    "\n",
    "# This has been partition if not it was meant to be 1"
   ]
  },
  {
   "cell_type": "code",
   "execution_count": 0,
   "metadata": {
    "application/vnd.databricks.v1+cell": {
     "cellMetadata": {},
     "inputWidgets": {},
     "nuid": "e894e24a-835c-4e6a-ad7b-e223896b284f",
     "showTitle": false,
     "title": ""
    }
   },
   "outputs": [
    {
     "name": "stdout",
     "output_type": "stream",
     "text": [
      "Out[100]: DataFrame[id: string, player_fifa_api_id: string, player_api_id: string, date: string, overall_rating: string, potential: string, preferred_foot: string, attacking_work_rate: string, defensive_work_rate: string, crossing: string, finishing: int, heading_accuracy: string, short_passing: string, volleys: string, dribbling: string, curve: string, free_kick_accuracy: string, long_passing: string, ball_control: string, acceleration: int, sprint_speed: int, agility: string, reactions: string, balance: string, shot_power: int, jumping: string, stamina: int, strength: string, long_shots: string, aggression: string, interceptions: string, positioning: string, vision: string, penalties: string, marking: string, standing_tackle: string, sliding_tackle: string, gk_diving: string, gk_handling: string, gk_kicking: string, gk_positioning: string, gk_reflexes: string, Years: int]"
     ]
    }
   ],
   "source": [
    "# On the other hand i can now one operation called .... So by doing this i have repartition my df\n",
    "\n",
    "player_stats = player_stats.repartition(6)"
   ]
  },
  {
   "cell_type": "code",
   "execution_count": 0,
   "metadata": {
    "application/vnd.databricks.v1+cell": {
     "cellMetadata": {},
     "inputWidgets": {},
     "nuid": "7044c869-a52b-436a-a5c5-e39fc1f4372d",
     "showTitle": false,
     "title": ""
    }
   },
   "outputs": [
    {
     "name": "stdout",
     "output_type": "stream",
     "text": [
      "Out[101]: 8"
     ]
    }
   ],
   "source": [
    "player_stats.rdd.getNumPartitions()"
   ]
  },
  {
   "cell_type": "code",
   "execution_count": 0,
   "metadata": {
    "application/vnd.databricks.v1+cell": {
     "cellMetadata": {},
     "inputWidgets": {},
     "nuid": "79b06b50-9c7f-4ec3-b113-4e609b4f8b3a",
     "showTitle": false,
     "title": ""
    }
   },
   "outputs": [],
   "source": [
    "# I can actually store my parquet file by writting them into parquet or store in csv.\n",
    "player_stats.write.parquet('C:\\Users\\pc1\\Desktop\\Player_Attributes', encoding='windows-1252', mode = 'overwrite')\n"
   ]
  },
  {
   "cell_type": "code",
   "execution_count": 0,
   "metadata": {
    "application/vnd.databricks.v1+cell": {
     "cellMetadata": {},
     "inputWidgets": {},
     "nuid": "5b0f7838-e2de-469b-a267-22cc4f66fe74",
     "showTitle": false,
     "title": ""
    }
   },
   "outputs": [],
   "source": [
    "new_player_stats = spark.read.parquet('C:\\Users\\pc1\\Desktop\\Player_Attributes')\n",
    "new_player_stats"
   ]
  }
 ],
 "metadata": {
  "application/vnd.databricks.v1+notebook": {
   "dashboards": [],
   "language": "python",
   "notebookMetadata": {
    "pythonIndentUnit": 4
   },
   "notebookName": "Fifa_players",
   "notebookOrigID": 1943881654698786,
   "widgets": {}
  },
  "kernelspec": {
   "display_name": "Python 3 (ipykernel)",
   "language": "python",
   "name": "python3"
  },
  "language_info": {
   "codemirror_mode": {
    "name": "ipython",
    "version": 3
   },
   "file_extension": ".py",
   "mimetype": "text/x-python",
   "name": "python",
   "nbconvert_exporter": "python",
   "pygments_lexer": "ipython3",
   "version": "3.9.13"
  },
  "toc": {
   "base_numbering": 1,
   "nav_menu": {},
   "number_sections": true,
   "sideBar": true,
   "skip_h1_title": false,
   "title_cell": "Table of Contents",
   "title_sidebar": "Contents",
   "toc_cell": false,
   "toc_position": {},
   "toc_section_display": true,
   "toc_window_display": false
  },
  "varInspector": {
   "cols": {
    "lenName": 16,
    "lenType": 16,
    "lenVar": 40
   },
   "kernels_config": {
    "python": {
     "delete_cmd_postfix": "",
     "delete_cmd_prefix": "del ",
     "library": "var_list.py",
     "varRefreshCmd": "print(var_dic_list())"
    },
    "r": {
     "delete_cmd_postfix": ") ",
     "delete_cmd_prefix": "rm(",
     "library": "var_list.r",
     "varRefreshCmd": "cat(var_dic_list()) "
    }
   },
   "types_to_exclude": [
    "module",
    "function",
    "builtin_function_or_method",
    "instance",
    "_Feature"
   ],
   "window_display": false
  }
 },
 "nbformat": 4,
 "nbformat_minor": 1
}
